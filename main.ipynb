{
 "cells": [
  {
   "cell_type": "markdown",
   "metadata": {
    "pycharm": {
     "name": "#%% md\n"
    }
   },
   "source": [
    "# Coco 2017 / Intake\n",
    "This notebook shows how you can use [intake](https://github.com/intake/intake) to access the Coco2017 dataset.\n",
    "\n",
    "You will need to use the patched version of [fsspec#332](https://github.com/intake/filesystem_spec/pull/332) since the ZipFiles are large.\n",
    "\n",
    "    conda env create .\n",
    "    conda activate intake-coco2017\n",
    "    jupyter-notebook main.ipynb"
   ]
  },
  {
   "cell_type": "code",
   "execution_count": 1,
   "metadata": {},
   "outputs": [],
   "source": [
    "import intake\n",
    "from skimage import io\n",
    "from ipywidgets import interact\n"
   ]
  },
  {
   "cell_type": "code",
   "execution_count": 2,
   "metadata": {
    "pycharm": {
     "name": "#%%\n"
    }
   },
   "outputs": [],
   "source": [
    "coco2017 = intake.open_catalog(\"coco2017.yml\")"
   ]
  },
  {
   "cell_type": "code",
   "execution_count": 5,
   "metadata": {
    "pycharm": {
     "name": "#%%\n"
    }
   },
   "outputs": [
    {
     "data": {
      "application/vnd.jupyter.widget-view+json": {
       "model_id": "21bb5cf990d044ae8c7fe359d0401cd2",
       "version_major": 2,
       "version_minor": 0
      },
      "text/plain": [
       "interactive(children=(Dropdown(description='dataset', options=(('unlabeled', sources:\n",
       "  unlabeled:\n",
       "    args:\n",
       " …"
      ]
     },
     "metadata": {},
     "output_type": "display_data"
    }
   ],
   "source": [
    "from ipywidgets import Dropdown, IntSlider\n",
    "dataset_widget = Dropdown(options=[\n",
    "    (name, coco2017.__getattr__(name)) for name in coco2017\n",
    "])\n",
    "partition_widget = IntSlider(min=0)\n",
    "\n",
    "def update_partition_widget(*args):\n",
    "    dataset = dataset_widget.value\n",
    "    partition_widget.max = dataset.discover()[\"shape\"][0]\n",
    "    partition_widget.value = min(partition_widget.value, partition_widget.max)\n",
    "dataset_widget.observe(update_partition_widget, 'value')\n",
    "\n",
    "@interact(dataset=dataset_widget, id=partition_widget)\n",
    "def show(dataset, id):\n",
    "    img = dataset.read_partition((id,))[0]\n",
    "    io.imshow(img)"
   ]
  },
  {
   "cell_type": "code",
   "execution_count": null,
   "metadata": {
    "pycharm": {
     "name": "#%%\n"
    }
   },
   "outputs": [],
   "source": [
    "\n",
    "\n"
   ]
  }
 ],
 "metadata": {
  "kernelspec": {
   "display_name": "Python 3",
   "language": "python",
   "name": "python3"
  },
  "language_info": {
   "codemirror_mode": {
    "name": "ipython",
    "version": 3
   },
   "file_extension": ".py",
   "mimetype": "text/x-python",
   "name": "python",
   "nbconvert_exporter": "python",
   "pygments_lexer": "ipython3",
   "version": "3.8.3"
  }
 },
 "nbformat": 4,
 "nbformat_minor": 1
}
