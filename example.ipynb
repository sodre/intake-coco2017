{
 "cells": [
  {
   "cell_type": "markdown",
   "source": [
    "# Coco 2017 / Intake\n",
    "This notebook shows how you can use [intake](https://github.com/intake/intake) to access the Coco2017 dataset.\n",
    "\n",
    "You will need to use the patched version of [fsspec#332](https://github.com/intake/filesystem_spec/pull/332) since the ZipFiles are large.\n",
    "\n",
    "    ```\n",
    "    conda create -n intake intake s3fs intake-xarray scikit-image ipywidgets\n",
    "    pip install git+https://github.com/sodre/filesystem_spec@i-zip-info-use-cache\n",
    "    ```"
   ],
   "metadata": {
    "collapsed": false,
    "pycharm": {
     "name": "#%% md\n"
    }
   }
  },
  {
   "cell_type": "code",
   "execution_count": 1,
   "metadata": {
    "collapsed": true
   },
   "outputs": [],
   "source": [
    "import intake\n",
    "from skimage import io\n",
    "from ipywidgets import interact\n"
   ]
  },
  {
   "cell_type": "code",
   "execution_count": 2,
   "outputs": [],
   "source": [
    "coco2017 = intake.open_catalog(\"coco2017.yml\")"
   ],
   "metadata": {
    "collapsed": false,
    "pycharm": {
     "name": "#%%\n"
    }
   }
  },
  {
   "cell_type": "code",
   "execution_count": 3,
   "outputs": [
    {
     "data": {
      "text/plain": "{'name': 'train',\n 'container': 'xarray',\n 'plugin': ['xarray_image'],\n 'description': 'Coco 2017 Train Images',\n 'direct_access': 'forbid',\n 'user_parameters': [],\n 'metadata': {},\n 'args': {'urlpath': 'zip://**.jpg::blockcache://fast-ai-coco/train2017.zip::s3://',\n  'storage_options': {'s3': {'anon': True},\n   'blockcache': {'cache_storage': '{{ CATALOG_DIR }}/cache'}}}}"
     },
     "execution_count": 3,
     "metadata": {},
     "output_type": "execute_result"
    }
   ],
   "source": [
    "coco2017.__getattr__(\"train\").describe()"
   ],
   "metadata": {
    "collapsed": false,
    "pycharm": {
     "name": "#%%\n"
    }
   }
  },
  {
   "cell_type": "code",
   "execution_count": 6,
   "outputs": [
    {
     "data": {
      "text/plain": "{'datashape': None,\n 'dtype': 'uint8',\n 'shape': (40670, 480, 640, 3),\n 'npartitions': 40670,\n 'metadata': {'catalog_dir': '/home/pcarlos/ghq/github.com/zeroae/intake-coco2017/',\n  'dims': {'channel': 3, 'concat_dim': 40670, 'x': 640, 'y': 480},\n  'data_vars': {'raster': ['y', 'x', 'channel']},\n  'coords': ('y', 'x', 'channel'),\n  'array': 'raster'}}"
     },
     "execution_count": 6,
     "metadata": {},
     "output_type": "execute_result"
    }
   ],
   "source": [
    "coco2017.test.discover()"
   ],
   "metadata": {
    "collapsed": false,
    "pycharm": {
     "name": "#%%\n"
    }
   }
  },
  {
   "cell_type": "code",
   "execution_count": 17,
   "outputs": [
    {
     "data": {
      "text/plain": "interactive(children=(Dropdown(description='dataset', options=(('unlabeled', sources:\n  unlabeled:\n    args:\n …",
      "application/vnd.jupyter.widget-view+json": {
       "version_major": 2,
       "version_minor": 0,
       "model_id": "5a0a6fde8b8543dbb7f9ae20a6b1b3d3"
      }
     },
     "metadata": {},
     "output_type": "display_data"
    }
   ],
   "source": [
    "from ipywidgets import Dropdown, IntSlider\n",
    "dataset_widget = Dropdown(options=[\n",
    "    (name, coco2017.__getattr__(name)) for name in coco2017\n",
    "])\n",
    "partition_widget = IntSlider(min=0)\n",
    "\n",
    "def update_partition_widget(*args):\n",
    "    dataset = dataset_widget.value\n",
    "    partition_widget.max = dataset.discover()[\"shape\"][0]\n",
    "dataset_widget.observe(update_partition_widget, 'value')\n",
    "\n",
    "@interact(dataset=dataset_widget, id=partition_widget)\n",
    "def show(dataset, id):\n",
    "    img = dataset.read_partition((id,))[0]\n",
    "    io.imshow(img)"
   ],
   "metadata": {
    "collapsed": false,
    "pycharm": {
     "name": "#%%\n"
    }
   }
  },
  {
   "cell_type": "code",
   "execution_count": null,
   "outputs": [],
   "source": [
    "\n",
    "\n"
   ],
   "metadata": {
    "collapsed": false,
    "pycharm": {
     "name": "#%%\n"
    }
   }
  }
 ],
 "metadata": {
  "kernelspec": {
   "display_name": "Python 3",
   "language": "python",
   "name": "python3"
  },
  "language_info": {
   "codemirror_mode": {
    "name": "ipython",
    "version": 2
   },
   "file_extension": ".py",
   "mimetype": "text/x-python",
   "name": "python",
   "nbconvert_exporter": "python",
   "pygments_lexer": "ipython2",
   "version": "2.7.6"
  }
 },
 "nbformat": 4,
 "nbformat_minor": 0
}